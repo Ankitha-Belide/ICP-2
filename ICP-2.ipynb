{
 "cells": [
  {
   "cell_type": "code",
   "execution_count": 1,
   "id": "f703632d-9b78-499b-b9b1-7ad70af0c07b",
   "metadata": {},
   "outputs": [
    {
     "name": "stdin",
     "output_type": "stream",
     "text": [
      "Enter your first name:  ankitha\n",
      "Enter your last name:  Belide\n"
     ]
    },
    {
     "name": "stdout",
     "output_type": "stream",
     "text": [
      "Full name:  ankitha Belide\n",
      "Every other character in the full name:  aktaBld\n"
     ]
    }
   ],
   "source": [
    "def fullname(first_name, last_name):\n",
    "    return first_name + \" \" + last_name\n",
    "\n",
    "def string_alternative(full_name):\n",
    "    return full_name[::2]\n",
    "\n",
    "first_name = input(\"Enter your first name: \")\n",
    "last_name = input(\"Enter your last name: \")\n",
    "full_name = fullname(first_name, last_name)\n",
    "print(\"Full name: \", full_name)\n",
    "print(\"Every other character in the full name: \", string_alternative(full_name))"
   ]
  },
  {
   "cell_type": "code",
   "execution_count": 2,
   "id": "91c4e3c1-863a-4637-b5f5-deb60c769d7f",
   "metadata": {},
   "outputs": [
    {
     "name": "stdout",
     "output_type": "stream",
     "text": [
      "Output:\n",
      "Input:\n",
      " deep learning course\n",
      "Neural network course\n",
      "Output:\n",
      "Word_Count:\n",
      "line\n",
      "course      2\n",
      "deep        1\n",
      "learning    1\n",
      "neural      1\n",
      "network     1\n"
     ]
    }
   ],
   "source": [
    "import pandas as pd\n",
    "text = pd.read_csv(\"input.txt\", header=None, names=[\"line\"])\n",
    "words = text[\"line\"].str.lower().str.split().explode()\n",
    "word_count = words.value_counts()\n",
    "with open(\"output.txt\", \"w\") as output_file:\n",
    "    output_file.write(\"Input:\\n\")\n",
    "    output_file.write(text.to_string(index=False, header=False))\n",
    "    output_file.write(\"\\nOutput:\\n\")\n",
    "    output_file.write(\"Word_Count:\\n\")\n",
    "    output_file.write(word_count.to_string())\n",
    "print(\"Output:\")\n",
    "with open(\"output.txt\", \"r\") as output_file:\n",
    "    print(output_file.read())"
   ]
  },
  {
   "cell_type": "code",
   "execution_count": 13,
   "id": "f3f174df-fbaf-446a-9339-ed904502621d",
   "metadata": {},
   "outputs": [
    {
     "name": "stdin",
     "output_type": "stream",
     "text": [
      "Enter heights in inches separated by commas:  158, 165, 149, 156\n"
     ]
    },
    {
     "name": "stdout",
     "output_type": "stream",
     "text": [
      "Using Nested Interactive Loop: [401.32, 419.1, 378.46, 396.24]\n",
      "Using List Comprehension: [401.32, 419.1, 378.46, 396.24]\n"
     ]
    }
   ],
   "source": [
    "def convert_heights_nested(heights_inches):\n",
    "    heights_cm = []\n",
    "    for height in heights_inches:\n",
    "        height_cm = round(height * 2.54, 2)\n",
    "        heights_cm.append(height_cm)\n",
    "    return heights_cm\n",
    "\n",
    "def convert_heights_list_comprehension(heights_inches):\n",
    "    heights_cm = [round(height * 2.54, 2) for height in heights_inches]\n",
    "    return heights_cm\n",
    "\n",
    "def get_user_input():\n",
    "    heights_input = input(\"Enter heights in inches separated by commas: \")\n",
    "    heights_list = [float(height.strip()) for height in heights_input.split(',')]\n",
    "    return heights_list\n",
    "\n",
    "user_heights = get_user_input()\n",
    "\n",
    "result_nested = convert_heights_nested(user_heights)\n",
    "print(\"Using Nested Interactive Loop:\", result_nested)\n",
    "\n",
    "result_comprehension = convert_heights_list_comprehension(user_heights)\n",
    "print(\"Using List Comprehension:\", result_comprehension)\n",
    "\n"
   ]
  },
  {
   "cell_type": "code",
   "execution_count": null,
   "id": "6dfea53e-6858-46e6-a1fd-69895c1a4718",
   "metadata": {},
   "outputs": [],
   "source": []
  }
 ],
 "metadata": {
  "kernelspec": {
   "display_name": "Python 3 (ipykernel)",
   "language": "python",
   "name": "python3"
  },
  "language_info": {
   "codemirror_mode": {
    "name": "ipython",
    "version": 3
   },
   "file_extension": ".py",
   "mimetype": "text/x-python",
   "name": "python",
   "nbconvert_exporter": "python",
   "pygments_lexer": "ipython3",
   "version": "3.12.1"
  }
 },
 "nbformat": 4,
 "nbformat_minor": 5
}
